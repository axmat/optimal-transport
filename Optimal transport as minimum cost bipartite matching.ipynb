{
 "cells": [
  {
   "cell_type": "code",
   "execution_count": null,
   "id": "98d63896",
   "metadata": {},
   "outputs": [],
   "source": [
    "import numpy as np\n",
    "import networkx as nx\n",
    "import math\n",
    "import cvxpy as cp\n",
    "import matplotlib.pyplot as plt"
   ]
  },
  {
   "cell_type": "markdown",
   "id": "ebc7dc1e",
   "metadata": {},
   "source": [
    "**Monge formulation**"
   ]
  },
  {
   "cell_type": "markdown",
   "id": "3f35c638",
   "metadata": {},
   "source": [
    "Let $(\\Omega_{X}, F_{X}, \\mu)$ and $(\\Omega_{Y}, F_{Y}, \\nu)$ be two probability spaces with $\\mu$ and $\\nu$ discrete measures.\n",
    "The Monge formulation of the optimal transport problem is \n",
    "\n",
    "$$min \\left\\{ \\sum_{X} c_{T}(x) \\mu(x) : T_{\\#}(\\mu) = \\nu \\right\\}$$\n",
    "\n",
    "where $T_{\\#}$ is the pushforward measure of $\\mu$ by $T$."
   ]
  },
  {
   "cell_type": "markdown",
   "id": "dcfc603b",
   "metadata": {},
   "source": [
    "If $X: \\Omega_{X} \\rightarrow \\mathbb{R}$ and $Y: \\Omega_{Y} \\rightarrow \\mathbb{R}$ are two discrete random variables with $\\Omega_{X} = \\Omega_{Y} = [1, \\ldots, N]$, this formulation is equivalent to\n",
    "\n",
    "$$\\frac{min}{\\sigma \\in \\Pi_{N}} \\left\\{ \\sum_{i=1}^{N} C_{i},\\sigma(i) \\right\\}$$\n",
    "\n",
    "where $\\Pi_{N}$ is the set of all the permutation matrices of $\\{1, \\ldots, N\\} \\text{x} \\{1, \\ldots, N\\}$, $\\sigma \\in \\Pi_{N}$ a permutation matrix and $\\sigma(i)$ the ith row of $\\sigma$."
   ]
  },
  {
   "cell_type": "markdown",
   "id": "0971529a",
   "metadata": {},
   "source": [
    "## Bakeries and cafeterias"
   ]
  },
  {
   "cell_type": "markdown",
   "id": "0a4d0107",
   "metadata": {},
   "source": [
    "Suppose we have N bakeries and N cafeterias. A bakery can deliver to only one cafeteria. The cost of the ith bakery supplying the jth cafeteria is given by the following matrix"
   ]
  },
  {
   "cell_type": "code",
   "execution_count": 2,
   "id": "f2fef142",
   "metadata": {},
   "outputs": [],
   "source": [
    "N = 6\n",
    "C = np.array([[12., 10., 31., 27., 10., 30.],\n",
    "              [22.,  7., 25., 15., 11., 14.],\n",
    "              [19.,  7., 19., 10., 15., 15.],\n",
    "              [10.,  6., 21., 19., 14., 24.],\n",
    "              [15., 23., 14., 24., 31., 34.],\n",
    "              [35., 26., 16.,  9., 34., 15.]])"
   ]
  },
  {
   "cell_type": "code",
   "execution_count": 3,
   "id": "e8f09276",
   "metadata": {},
   "outputs": [
    {
     "data": {
      "text/plain": [
       "(6, 6)"
      ]
     },
     "execution_count": 3,
     "metadata": {},
     "output_type": "execute_result"
    }
   ],
   "source": [
    "C.shape"
   ]
  },
  {
   "cell_type": "markdown",
   "id": "51510018",
   "metadata": {},
   "source": [
    "We want to minimize the total cost of supplying all the N cafeterias.\n",
    "This is a problem of finding an optimal transport map i.e. an application T that maps a bakery to a cafeteria \n",
    "and minimizes the total cost."
   ]
  },
  {
   "cell_type": "markdown",
   "id": "48e89f78",
   "metadata": {},
   "source": [
    "The number of possibilities is\n",
    "\n",
    "$$\n",
    "\\begin{align}\n",
    "\\left( \\begin{array}{cc}6\\\\1\\end{array} \\right) * \\left( \\begin{array}{cc}5\\\\1\\end{array} \\right) * ... * \\left( \\begin{array}{cc}2\\\\1\\end{array} \\right) * 1 = 6!\n",
    "\\end{align}\n",
    "$$"
   ]
  },
  {
   "cell_type": "code",
   "execution_count": 4,
   "id": "eb7a7db3",
   "metadata": {},
   "outputs": [
    {
     "data": {
      "text/plain": [
       "720"
      ]
     },
     "execution_count": 4,
     "metadata": {},
     "output_type": "execute_result"
    }
   ],
   "source": [
    "math.factorial(6)"
   ]
  },
  {
   "cell_type": "markdown",
   "id": "d29201cd",
   "metadata": {},
   "source": [
    "One of these 720 possibilities is for the ith bakery to supply the ith cafeteria. The permutation matrix is $\\sigma = I_{N}$ the identity matrix. The cost is the sum of the diagonal "
   ]
  },
  {
   "cell_type": "code",
   "execution_count": 5,
   "id": "682dbf24",
   "metadata": {},
   "outputs": [
    {
     "data": {
      "text/plain": [
       "103.0"
      ]
     },
     "execution_count": 5,
     "metadata": {},
     "output_type": "execute_result"
    }
   ],
   "source": [
    "np.diag(C).sum()"
   ]
  },
  {
   "cell_type": "markdown",
   "id": "f6405193",
   "metadata": {},
   "source": [
    "Instead of testing all the N! possible solutions which is impractical, we formulate the problem as follow"
   ]
  },
  {
   "cell_type": "markdown",
   "id": "d818cc25",
   "metadata": {},
   "source": [
    "$$\\frac{min}{\\sigma \\in \\Pi_{N}} \\left\\{ \\sum_{i=1}^{N} C_{i},\\sigma(i) \\right\\}$$\n",
    "\n",
    "where $C$ is the cost and $\\sigma$ is a permutation matrix of $\\{1, \\ldots, N\\} \\text{x} \\{1, \\ldots, N\\}$"
   ]
  },
  {
   "cell_type": "markdown",
   "id": "6862f73c",
   "metadata": {},
   "source": [
    "## Optimal transport as minimum cost bipartite matching"
   ]
  },
  {
   "cell_type": "markdown",
   "id": "0eed790d",
   "metadata": {},
   "source": [
    "Let's construct a graph where both the bakeries and the cafeterias are the nodes"
   ]
  },
  {
   "cell_type": "code",
   "execution_count": 6,
   "id": "03647467",
   "metadata": {},
   "outputs": [],
   "source": [
    "g = nx.Graph()"
   ]
  },
  {
   "cell_type": "code",
   "execution_count": 7,
   "id": "a7e0e0d8",
   "metadata": {},
   "outputs": [
    {
     "name": "stdout",
     "output_type": "stream",
     "text": [
      "Nodes x : x0 x1 x2 x3 x4 x5\n",
      "Nodes y : y0 y1 y2 y3 y4 y5\n"
     ]
    }
   ],
   "source": [
    "nodes_x = ['x' + str(_x) for _x in list(range(N))]\n",
    "nodes_y = ['y' + str(_y) for _y in list(range(N))]\n",
    "print(\"Nodes x :\", *nodes_x)\n",
    "print(\"Nodes y :\", *nodes_y)"
   ]
  },
  {
   "cell_type": "markdown",
   "id": "811c3dd1",
   "metadata": {},
   "source": [
    "**Adding the nodes to the graph**"
   ]
  },
  {
   "cell_type": "code",
   "execution_count": 8,
   "id": "185e7437",
   "metadata": {},
   "outputs": [],
   "source": [
    "for node in nodes_x + nodes_y:\n",
    "    g.add_node(node)"
   ]
  },
  {
   "cell_type": "markdown",
   "id": "5319fecf",
   "metadata": {},
   "source": [
    "**Adding the edges**"
   ]
  },
  {
   "cell_type": "code",
   "execution_count": 9,
   "id": "4b6a39f2",
   "metadata": {},
   "outputs": [],
   "source": [
    "for i in range(N):\n",
    "    for j in range(N):\n",
    "        g.add_edge(nodes_x[i], nodes_y[j], weight=C[i, j])"
   ]
  },
  {
   "cell_type": "markdown",
   "id": "007b1d28",
   "metadata": {},
   "source": [
    "**Drawing the bipartite graph**"
   ]
  },
  {
   "cell_type": "code",
   "execution_count": 10,
   "id": "de394deb",
   "metadata": {},
   "outputs": [
    {
     "data": {
      "image/png": "[encoded data removed]",
      "text/plain": [
       "<Figure size 432x288 with 1 Axes>"
      ]
     },
     "metadata": {},
     "output_type": "display_data"
    }
   ],
   "source": [
    "pos = nx.bipartite_layout(g, nodes_x, align = 'horizontal')\n",
    "nx.draw_networkx_nodes(g, pos, nodelist=nodes_x, node_color = 'blue', node_size = 400)\n",
    "nx.draw_networkx_nodes(g, pos, nodelist=nodes_y, node_color = 'red', node_size = 400)\n",
    "nx.draw_networkx_labels(g, pos, font_color = 'w')\n",
    "edge_labels = nx.get_edge_attributes(g, 'weight')\n",
    "nx.draw_networkx_edge_labels(g, pos, edge_labels)\n",
    "nx.draw_networkx_edges(g, pos)\n",
    "plt.axis('off')\n",
    "plt.tight_layout()\n",
    "plt.show()"
   ]
  },
  {
   "cell_type": "markdown",
   "id": "e842233c",
   "metadata": {},
   "source": [
    "This is a bipartite graph, its vertices are divided into two disjoint sets $X = \\{ x_{0}, x_{1}, ..., x_{5} \\}$ and\n",
    "$Y = \\{ y_{0}, y_{1}, ..., y_{5}\\}$\n",
    "\n",
    "The optimal transport problem formulated above is the problem finding a matching in a bipartite graph for which the sum of the weight of the edges is minimum."
   ]
  },
  {
   "cell_type": "markdown",
   "id": "41d96ac3",
   "metadata": {},
   "source": [
    "**Solving the problem**"
   ]
  },
  {
   "cell_type": "markdown",
   "id": "a363697d",
   "metadata": {},
   "source": [
    "Many polynomial time (in the number of vertices $N$) algorithms for solving this problem exists.\n",
    "The Hopcroft-karp algotihm is implemented in scipy and can be called from networkx to find the minimum bipartite matching of a graph."
   ]
  },
  {
   "cell_type": "code",
   "execution_count": 11,
   "id": "1a398b1c",
   "metadata": {},
   "outputs": [
    {
     "data": {
      "text/plain": [
       "{'x0': 'y4',\n",
       " 'x2': 'y1',\n",
       " 'x3': 'y0',\n",
       " 'x1': 'y5',\n",
       " 'x4': 'y2',\n",
       " 'x5': 'y3',\n",
       " 'y4': 'x0',\n",
       " 'y1': 'x2',\n",
       " 'y0': 'x3',\n",
       " 'y5': 'x1',\n",
       " 'y2': 'x4',\n",
       " 'y3': 'x5'}"
      ]
     },
     "execution_count": 11,
     "metadata": {},
     "output_type": "execute_result"
    }
   ],
   "source": [
    "res = nx.bipartite.minimum_weight_full_matching(g)\n",
    "res"
   ]
  },
  {
   "cell_type": "markdown",
   "id": "0bddad4c",
   "metadata": {},
   "source": [
    "The minimum cost is the sum of the weights"
   ]
  },
  {
   "cell_type": "code",
   "execution_count": 12,
   "id": "cfda451e",
   "metadata": {},
   "outputs": [],
   "source": [
    "min_cost = 0.\n",
    "for src, dest in res.items():\n",
    "    min_cost += g.get_edge_data(src, dest)['weight']\n",
    "min_cost /= 2"
   ]
  },
  {
   "cell_type": "markdown",
   "id": "ade52659",
   "metadata": {},
   "source": [
    "The minimum cost is"
   ]
  },
  {
   "cell_type": "code",
   "execution_count": 13,
   "id": "446adbce",
   "metadata": {},
   "outputs": [
    {
     "data": {
      "text/plain": [
       "64.0"
      ]
     },
     "execution_count": 13,
     "metadata": {},
     "output_type": "execute_result"
    }
   ],
   "source": [
    "min_cost"
   ]
  },
  {
   "cell_type": "markdown",
   "id": "d243bdd5",
   "metadata": {},
   "source": [
    "**Visual checking**"
   ]
  },
  {
   "cell_type": "code",
   "execution_count": 14,
   "id": "1e4335e1",
   "metadata": {},
   "outputs": [
    {
     "data": {
      "image/png": "[encoded data removed]",
      "text/plain": [
       "<Figure size 504x504 with 1 Axes>"
      ]
     },
     "metadata": {
      "needs_background": "light"
     },
     "output_type": "display_data"
    }
   ],
   "source": [
    "fig, ax = plt.subplots(figsize = (7, 7))\n",
    "ax.matshow(C)\n",
    "for i in range(N):\n",
    "    for j in range(N):\n",
    "        nodex = nodes_x[i]\n",
    "        nodey = nodes_y[j]\n",
    "        if (res[nodex] == nodey):\n",
    "            color = 'white'\n",
    "        else:\n",
    "            color = 'black'\n",
    "        ax.text(j, i, C[i, j], horizontalalignment = 'center',\n",
    "                verticalalignment = 'center', weight = 'bold', color = color)"
   ]
  },
  {
   "cell_type": "markdown",
   "id": "89a3ea11",
   "metadata": {},
   "source": [
    "If we sum the values in white we have indeed the minimum cost"
   ]
  },
  {
   "cell_type": "code",
   "execution_count": 15,
   "id": "baf54d1a",
   "metadata": {},
   "outputs": [
    {
     "data": {
      "text/plain": [
       "64"
      ]
     },
     "execution_count": 15,
     "metadata": {},
     "output_type": "execute_result"
    }
   ],
   "source": [
    "10 + 7 + 14 + 9 + 10 + 14"
   ]
  },
  {
   "cell_type": "markdown",
   "id": "967a20f1",
   "metadata": {},
   "source": [
    "The solution is for the bakery 3 to supply the cafeteria 0, the bakery 2 to supply the cafeteria 1, \n",
    "the bakery 4 to supply the cafeteria 2 and so on..."
   ]
  },
  {
   "cell_type": "code",
   "execution_count": null,
   "id": "4b83aad1",
   "metadata": {},
   "outputs": [],
   "source": []
  }
 ],
 "metadata": {
  "kernelspec": {
   "display_name": "Python 3",
   "language": "python",
   "name": "python3"
  },
  "language_info": {
   "codemirror_mode": {
    "name": "ipython",
    "version": 3
   },
   "file_extension": ".py",
   "mimetype": "text/x-python",
   "name": "python",
   "nbconvert_exporter": "python",
   "pygments_lexer": "ipython3",
   "version": "3.9.12"
  }
 },
 "nbformat": 4,
 "nbformat_minor": 5
}
