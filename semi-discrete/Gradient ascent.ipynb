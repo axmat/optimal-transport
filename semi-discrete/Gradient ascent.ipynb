{
 "cells": [
  {
   "cell_type": "code",
   "execution_count": 1,
   "id": "50a88afe",
   "metadata": {},
   "outputs": [],
   "source": [
    "import numpy as np\n",
    "from scipy import stats\n",
    "import matplotlib.pyplot as plt\n",
    "plt.rcParams['text.usetex'] = True\n",
    "plt.style.use(\"science\")\n",
    "import cvxpy as cp\n",
    "import math\n",
    "import matplotlib\n",
    "from random import shuffle"
   ]
  },
  {
   "cell_type": "markdown",
   "id": "f17527e1",
   "metadata": {},
   "source": [
    "## Semi discrete optimal transport"
   ]
  },
  {
   "cell_type": "markdown",
   "id": "6b18367d",
   "metadata": {},
   "source": [
    "$$\n",
    "\\begin{align}\n",
    "\\text{min} \\big\\{ \\int_X \\sum_j c_{T}(x, y_j) d\\gamma_j(x) : \\int_X d\\gamma_j(x) = \\nu_j, \\sum_j d\\gamma_j(x) = d\\mu(x) \\big\\}\n",
    "\\end{align}\n",
    "$$"
   ]
  },
  {
   "cell_type": "markdown",
   "id": "4f64d489",
   "metadata": {},
   "source": [
    "where\n",
    "- $\\mu(x) \\sim X$ is a continuous distribution\n",
    "- $\\nu \\sim Y$ is a discrete distribution\n",
    "- $c_T(x, y_j) = \\frac{1}{2}(x - y_j)^2$ is the cost function"
   ]
  },
  {
   "cell_type": "markdown",
   "id": "9cf46a11",
   "metadata": {},
   "source": [
    "## Generate a problem"
   ]
  },
  {
   "cell_type": "markdown",
   "id": "b7ed938b",
   "metadata": {},
   "source": [
    "**Continuous distribution $\\mu(x) \\sim X = N(0, 1)$**"
   ]
  },
  {
   "cell_type": "code",
   "execution_count": 2,
   "id": "c85a9b91",
   "metadata": {},
   "outputs": [],
   "source": [
    "S = 10000\n",
    "s = np.random.randn(S)\n",
    "s.sort()"
   ]
  },
  {
   "cell_type": "code",
   "execution_count": 3,
   "id": "55e2f794",
   "metadata": {},
   "outputs": [
    {
     "data": {
      "image/png": "[encoded data removed]",
      "text/plain": [
       "<Figure size 350x262.5 with 1 Axes>"
      ]
     },
     "metadata": {},
     "output_type": "display_data"
    }
   ],
   "source": [
    "cdfs = stats.norm.pdf(s)\n",
    "plt.plot(s, cdfs, color = \"blue\")\n",
    "plt.show()"
   ]
  },
  {
   "cell_type": "markdown",
   "id": "93d9fb12",
   "metadata": {},
   "source": [
    "Discretize $s \\sim S$ to compute the integrals with $P(X = x_i) = \\frac{1}{M} \\sum_j \\mathbb{1}_{(-\\infty, x_i ]} (s_j)$"
   ]
  },
  {
   "cell_type": "code",
   "execution_count": 4,
   "id": "410f1108",
   "metadata": {},
   "outputs": [],
   "source": [
    "def discretize(s, M):\n",
    "    S = s.size\n",
    "    s_min = s.min()\n",
    "    s_max = s.max()\n",
    "    x = np.zeros(M)\n",
    "    x_int = {}\n",
    "    size = (s_max - s_min) / M\n",
    "    sum_x = 0.0\n",
    "    for i in range(M):\n",
    "        a = s_min + i * size\n",
    "        b = s_min + (i + 1) * size\n",
    "        x_int[i] = (a, b)\n",
    "        x[i] = 0.\n",
    "        for k in range(S):\n",
    "            if s[k] >= a and s[k] < b:\n",
    "                x[i] += 1\n",
    "        sum_x += x[i]\n",
    "    for i in range(M):\n",
    "        x[i] /= sum_x\n",
    "    return x, x_int"
   ]
  },
  {
   "cell_type": "code",
   "execution_count": 5,
   "id": "4d3bd3fe",
   "metadata": {},
   "outputs": [],
   "source": [
    "M = 100\n",
    "x,_ = discretize(s, M)"
   ]
  },
  {
   "cell_type": "code",
   "execution_count": 6,
   "id": "7bdac160",
   "metadata": {},
   "outputs": [
    {
     "data": {
      "image/png": "[encoded data removed]",
      "text/plain": [
       "<Figure size 350x262.5 with 1 Axes>"
      ]
     },
     "metadata": {},
     "output_type": "display_data"
    }
   ],
   "source": [
    "plt.bar(range(M), x, color = \"blue\")\n",
    "plt.show()"
   ]
  },
  {
   "cell_type": "markdown",
   "id": "22aa4e26",
   "metadata": {},
   "source": [
    "**Discrete distribution $\\nu \\sim Y$**"
   ]
  },
  {
   "cell_type": "code",
   "execution_count": 7,
   "id": "f3426a3e",
   "metadata": {},
   "outputs": [],
   "source": [
    "def generate_dist(N, S = 10000):\n",
    "    y = np.zeros(N)\n",
    "    s = np.random.randn(S)\n",
    "    y_dist, _ = discretize(s, N//2)\n",
    "    for i in range(N//2):\n",
    "        y[i] = y_dist[i]\n",
    "        y[i + N//2] = y_dist[i]\n",
    "    y = y / y.sum()\n",
    "    return y"
   ]
  },
  {
   "cell_type": "code",
   "execution_count": 8,
   "id": "a3658d23",
   "metadata": {},
   "outputs": [],
   "source": [
    "N = 100\n",
    "if N % 2 > 0:\n",
    "    N += 1\n",
    "y = generate_dist(N)"
   ]
  },
  {
   "cell_type": "code",
   "execution_count": 9,
   "id": "9fc479f7",
   "metadata": {},
   "outputs": [
    {
     "data": {
      "image/png": "[encoded data removed]",
      "text/plain": [
       "<Figure size 350x262.5 with 1 Axes>"
      ]
     },
     "metadata": {},
     "output_type": "display_data"
    }
   ],
   "source": [
    "plt.bar(range(N), y, color = \"red\")\n",
    "plt.show()"
   ]
  },
  {
   "cell_type": "markdown",
   "id": "f9178702",
   "metadata": {},
   "source": [
    "## Distance matrix"
   ]
  },
  {
   "cell_type": "markdown",
   "id": "d57b799d",
   "metadata": {},
   "source": [
    "$$C = d(x_i, y_j) = \\frac{1}{2}(x_i - y_j)^2$$\n",
    "\n",
    "$$i = \\{1, 2, \\ldots, M\\} \\ \\text{and} \\ j = \\{1, 2, \\ldots, N\\}$$"
   ]
  },
  {
   "cell_type": "code",
   "execution_count": 10,
   "id": "5490f578",
   "metadata": {},
   "outputs": [],
   "source": [
    "C = np.zeros((M, N))\n",
    "for i in range(M):\n",
    "    for j in range(N):\n",
    "        C[i, j] = .5 * (x[i] - y[j])**2"
   ]
  },
  {
   "cell_type": "code",
   "execution_count": 11,
   "id": "2dc5e93b",
   "metadata": {},
   "outputs": [
    {
     "data": {
      "image/png": "[encoded data removed]",
      "text/plain": [
       "<Figure size 400x400 with 1 Axes>"
      ]
     },
     "metadata": {},
     "output_type": "display_data"
    }
   ],
   "source": [
    "fig = plt.figure(figsize=(4, 4))\n",
    "plt.imshow(C)\n",
    "plt.show()"
   ]
  },
  {
   "cell_type": "markdown",
   "id": "c09c9835",
   "metadata": {},
   "source": [
    "## Dual formulation"
   ]
  },
  {
   "cell_type": "markdown",
   "id": "a298b73f",
   "metadata": {},
   "source": [
    "\n",
    "$$\\sup_{\\psi, \\phi} \\big\\{ \\sum_j\\psi_j\\nu_j + \\int_X \\phi(x) d\\mu(x) : \\psi_j + \\phi(x) \\leq c(x, y_j) \\big\\}$$\n",
    "\n",
    "which is equivalent to\n",
    "\n",
    "$$\\sup_{\\psi} \\big\\{ \\sum_j\\psi_j\\nu_j + \\int_X \\inf_{j}[c(x, y_j) - \\psi_j] d\\mu(x) \\big\\}$$\n",
    "\n",
    "It can be solved with a gradient ascent algorithm"
   ]
  },
  {
   "cell_type": "markdown",
   "id": "4e73214a",
   "metadata": {},
   "source": [
    "## Gradient ascent algorithm"
   ]
  },
  {
   "cell_type": "markdown",
   "id": "c55886b0",
   "metadata": {},
   "source": [
    "**Objective function**"
   ]
  },
  {
   "cell_type": "markdown",
   "id": "0bb8fbb0",
   "metadata": {},
   "source": [
    "$$J(\\psi) = \\sum_j \\psi_j \\nu_j + \\int_X \\inf_j [c(x, y_j) - \\psi_j]d\\mu(x)$$\n",
    "with $\\psi = (\\psi_1, \\psi_2, \\ldots, \\psi_N) \\in R^N$"
   ]
  },
  {
   "cell_type": "code",
   "execution_count": 12,
   "id": "4c396179",
   "metadata": {},
   "outputs": [],
   "source": [
    "# Objective function\n",
    "# Return the value of the objective function, arginf(c(x,y_j) - psi_j) and phi\n",
    "def obj(psi, M=M, nu=y, N=N, C=C):\n",
    "    r = 0.\n",
    "    for j in range(N):\n",
    "        r += psi[j] * nu[j]\n",
    "    inf_j = np.zeros(M)\n",
    "    phi = np.zeros(M)\n",
    "    for i in range(M):\n",
    "        j_star = np.random.randint(N)\n",
    "        min_value = C[i, j_star] - psi[j_star]\n",
    "        nn = list(range(N))\n",
    "        shuffle(nn)\n",
    "        for j in nn:\n",
    "            if (C[i, j] - psi[j] < min_value):\n",
    "                min_value = C[i, j] - psi[j]\n",
    "                j_star = j\n",
    "        inf_j[i] = j_star\n",
    "        r += min_value * x[i]\n",
    "        phi[i] = min_value\n",
    "    return r, inf_j, phi"
   ]
  },
  {
   "cell_type": "markdown",
   "id": "e64a50a3",
   "metadata": {},
   "source": [
    "**Gradient of the objective function**"
   ]
  },
  {
   "cell_type": "markdown",
   "id": "d0e8de64",
   "metadata": {},
   "source": [
    "$$\\nabla J (\\psi) = \\left( \\frac{\\delta J}{\\delta \\psi_1}, \\frac{\\delta J}{\\delta \\psi_2},\n",
    "    \\ldots, \\frac{\\delta J}{\\delta \\psi_N} \\right) = \\left( \\ldots, \\frac{\\delta J}{\\delta \\psi_k}, \\ldots \\right)$$\n",
    "\n",
    "with $k = 1, 2, \\ldots, N$"
   ]
  },
  {
   "cell_type": "markdown",
   "id": "bd8486a0",
   "metadata": {},
   "source": [
    "$$\n",
    "\\begin{align}\n",
    "\\frac{\\delta J}{\\delta \\psi_k} &= \\frac{\\delta J}{\\delta \\psi_k} \\sum_j \\psi_j \\nu_j + \\int_X \\inf_j [c(x, y_j) - \\psi_j]d\\mu(x)\\\\\n",
    "    &= \\frac{\\delta J}{\\delta \\psi_k} \\sum_j \\psi_j \\nu_j + \\sum_i \\inf_j [c(x_i, y_j) - \\psi_j]x_i\\\\\n",
    "    &= \\nu_k + \\frac{\\delta J}{\\delta \\psi_k} \\sum_i [c(x_i, y_{j_i^{*}}) - \\psi_{j_i^{*}}]x_i\\\\\n",
    "\\end{align}\n",
    "$$\n",
    "\n",
    "where $j_i^{*} = \\arg \\inf c(x_i, y_j) - \\psi_j$"
   ]
  },
  {
   "cell_type": "markdown",
   "id": "8d5e6d42",
   "metadata": {},
   "source": [
    "$$\n",
    "\\begin{align}\n",
    "\\frac{\\delta J}{\\delta \\psi_k} &= \\nu_k + \\sum_i \\frac{\\delta J}{\\delta \\psi_k} [c(x_i, y_{j_i^{*}}) - \\psi_{j_i^{*}}]x_i\\\\\n",
    "    &= \\nu_k - \\sum_i \\delta_{k j_i^{*}} x_i\\\\\n",
    "\\end{align}\n",
    "$$\n",
    "\n",
    "where $\\delta_{k j_i^{*}} = [k = j_i^{*}]$ is the dirac delta function\n",
    "\n",
    "Thus\n",
    "\n",
    "$$\\nabla J (\\psi) = \\left( \\ldots \\nu_k - \\sum_i \\delta_{k j_i^{*}} x_i \\ldots \\right)$$ "
   ]
  },
  {
   "cell_type": "code",
   "execution_count": 13,
   "id": "3c5fda30",
   "metadata": {},
   "outputs": [],
   "source": [
    "# Gradient of J\n",
    "# Here it doesn't depend on the parameter psi\n",
    "def grad_obj(inf_index, M=M, N=N, nu=y):\n",
    "    grad = np.zeros(N)\n",
    "    for k in range(N):\n",
    "        grad[k] = nu[k]\n",
    "        for i in range(M):\n",
    "            if k == inf_index[i]:\n",
    "                grad[k] -= x[i]\n",
    "    return grad"
   ]
  },
  {
   "cell_type": "markdown",
   "id": "7a278fd1",
   "metadata": {},
   "source": [
    "**Gradient ascent algorithm**"
   ]
  },
  {
   "cell_type": "code",
   "execution_count": 14,
   "id": "2df3217e",
   "metadata": {},
   "outputs": [],
   "source": [
    "def solve(lr = 1e-3, epochs = 100,eps = 1e-5):\n",
    "    psi_0 = np.ones(N)\n",
    "    loss_0, inf_index, phi = obj(psi_0)\n",
    "    print(f\"Epoch 0 Loss = {loss_0}\")\n",
    "    hist = [loss_0]\n",
    "    for epoch in range(epochs):\n",
    "        grad = grad_obj(inf_index)\n",
    "        psi_1 = psi_0 + lr * grad\n",
    "        loss_1, inf_index, phi = obj(psi_1)\n",
    "        if epoch % 100 == 0:\n",
    "            print(f\"Epoch {epoch} Loss = {loss_1}\")\n",
    "        if (abs(loss_1 - loss_0) < eps):\n",
    "            print(f\"Converged after {epoch} epochs\")\n",
    "            break\n",
    "        psi_0 = psi_1\n",
    "        loss_0 = loss_1\n",
    "        hist.append(loss_1)\n",
    "    return psi_1, phi, loss_1, hist"
   ]
  },
  {
   "cell_type": "code",
   "execution_count": 15,
   "id": "bdebbedc",
   "metadata": {},
   "outputs": [
    {
     "name": "stdout",
     "output_type": "stream",
     "text": [
      "Epoch 0 Loss = 3.921795166284697e-07\n",
      "Epoch 0 Loss = -0.00025469844275138057\n",
      "Converged after 26 epochs\n"
     ]
    }
   ],
   "source": [
    "psi, phi, loss, _ = solve(1e-2, epochs = 1000, eps=1e-5)"
   ]
  },
  {
   "cell_type": "markdown",
   "id": "6f9d9351",
   "metadata": {},
   "source": [
    "# Optimal transportation map"
   ]
  },
  {
   "cell_type": "markdown",
   "id": "df916767",
   "metadata": {},
   "source": [
    "$$\\gamma \\in \\Gamma(x, y)$$\n",
    "\n",
    "such that\n",
    "\n",
    "$$\\gamma(x) = x - \\nabla \\phi(x) = x_i - \\phi_i + \\phi_{i-1}$$\n",
    "\n",
    "$$\\gamma(y) = y - \\nabla \\psi_j = \\nu_j - \\psi_j + \\psi_{j-1}$$\n",
    "\n",
    "$\\gamma(x)$ should be as close as possible to $\\mu(x)$ and $\\gamma(y)$ should be as close as possible to $\\nu$"
   ]
  },
  {
   "cell_type": "code",
   "execution_count": 16,
   "id": "fb43f781",
   "metadata": {},
   "outputs": [],
   "source": [
    "dphi =  np.zeros(M)\n",
    "for i in range(1, M):\n",
    "    dphi[i] = (phi[i] - phi[i - 1])"
   ]
  },
  {
   "cell_type": "code",
   "execution_count": 17,
   "id": "1e6f29dc",
   "metadata": {},
   "outputs": [
    {
     "data": {
      "image/png": "[encoded data removed]",
      "text/plain": [
       "<Figure size 350x262.5 with 1 Axes>"
      ]
     },
     "metadata": {},
     "output_type": "display_data"
    }
   ],
   "source": [
    "plt.plot(dphi, color = \"blue\")\n",
    "plt.show()"
   ]
  },
  {
   "cell_type": "code",
   "execution_count": 18,
   "id": "e81c3dfb",
   "metadata": {},
   "outputs": [],
   "source": [
    "dpsi =  np.zeros(N)\n",
    "for i in range(1, N):\n",
    "    dpsi[i] = psi[i] - psi[i - 1]"
   ]
  },
  {
   "cell_type": "code",
   "execution_count": 19,
   "id": "0070135b",
   "metadata": {},
   "outputs": [
    {
     "data": {
      "image/png": "[encoded data removed]",
      "text/plain": [
       "<Figure size 350x262.5 with 1 Axes>"
      ]
     },
     "metadata": {},
     "output_type": "display_data"
    }
   ],
   "source": [
    "plt.plot(dpsi, color = \"red\")\n",
    "plt.show()"
   ]
  },
  {
   "cell_type": "code",
   "execution_count": 20,
   "id": "8b5aabe7",
   "metadata": {},
   "outputs": [],
   "source": [
    "gamma = np.zeros((M, N))\n",
    "for i in range(M):\n",
    "    for j in range(N):\n",
    "        gamma[i, j] = y[j] - dpsi[j] + x[i] - dphi[i]"
   ]
  },
  {
   "cell_type": "code",
   "execution_count": 21,
   "id": "e8497599",
   "metadata": {},
   "outputs": [
    {
     "data": {
      "image/png": "[encoded data removed]",
      "text/plain": [
       "<Figure size 400x400 with 1 Axes>"
      ]
     },
     "metadata": {},
     "output_type": "display_data"
    }
   ],
   "source": [
    "fig = plt.figure(figsize=(4, 4))\n",
    "plt.imshow(gamma)\n",
    "plt.title(\"Transportation map $\\gamma(x, y)$\")\n",
    "plt.show()"
   ]
  },
  {
   "cell_type": "markdown",
   "id": "e3876315",
   "metadata": {},
   "source": [
    "**compare $\\gamma(x)$ and $\\nu$**"
   ]
  },
  {
   "cell_type": "code",
   "execution_count": 22,
   "id": "3a3c62f7",
   "metadata": {},
   "outputs": [],
   "source": [
    "gamma_y = np.zeros(N)\n",
    "for j in range(N):\n",
    "    for i in range(M):\n",
    "        gamma_y[j] += gamma[i, j]\n",
    "gamma_y /= gamma_y.sum()"
   ]
  },
  {
   "cell_type": "code",
   "execution_count": 23,
   "id": "7fbbc7b0",
   "metadata": {},
   "outputs": [
    {
     "data": {
      "image/png": "[encoded data removed]",
      "text/plain": [
       "<Figure size 350x262.5 with 1 Axes>"
      ]
     },
     "metadata": {},
     "output_type": "display_data"
    }
   ],
   "source": [
    "plt.bar(range(N), y, color = \"blue\")\n",
    "plt.bar(range(N), gamma_y, color = \"red\", alpha = .5)\n",
    "plt.show()"
   ]
  },
  {
   "cell_type": "markdown",
   "id": "656673af",
   "metadata": {},
   "source": [
    "**Compare $\\gamma(y)$ and $\\mu(x)$**"
   ]
  },
  {
   "cell_type": "code",
   "execution_count": 24,
   "id": "ca1aede8",
   "metadata": {},
   "outputs": [],
   "source": [
    "gamma_x = np.zeros(M)\n",
    "for i in range(M):\n",
    "    for j in range(N):\n",
    "        gamma_x[i] += gamma[i, j]\n",
    "gamma_x /= gamma_x.sum()"
   ]
  },
  {
   "cell_type": "code",
   "execution_count": 25,
   "id": "0d9f851f",
   "metadata": {},
   "outputs": [
    {
     "data": {
      "image/png": "[encoded data removed]",
      "text/plain": [
       "<Figure size 350x262.5 with 1 Axes>"
      ]
     },
     "metadata": {},
     "output_type": "display_data"
    }
   ],
   "source": [
    "plt.bar(range(M), x, color = \"blue\")\n",
    "plt.bar(range(M), gamma_x, color = \"red\", alpha = .5)\n",
    "plt.show()"
   ]
  },
  {
   "cell_type": "markdown",
   "id": "9dfad24d",
   "metadata": {},
   "source": [
    "## References"
   ]
  },
  {
   "cell_type": "markdown",
   "id": "46eedf95",
   "metadata": {},
   "source": [
    "1. **Optimal Transport for Applied Mathematicians** by Filippo Santambrogio\n",
    "2. **[Le transport optimal: de Gaspard Monge à la science des données](https://speakerdeck.com/gpeyre/le-transport-optimal-de-gaspard-monge-a-la-science-des-donnees)** by Gabriel Peyré"
   ]
  },
  {
   "cell_type": "code",
   "execution_count": null,
   "id": "1f9a42a6-faa7-4046-905c-e38334653c84",
   "metadata": {},
   "outputs": [],
   "source": []
  }
 ],
 "metadata": {
  "kernelspec": {
   "display_name": "Python 3 (ipykernel)",
   "language": "python",
   "name": "python3"
  },
  "language_info": {
   "codemirror_mode": {
    "name": "ipython",
    "version": 3
   },
   "file_extension": ".py",
   "mimetype": "text/x-python",
   "name": "python",
   "nbconvert_exporter": "python",
   "pygments_lexer": "ipython3",
   "version": "3.8.10"
  }
 },
 "nbformat": 4,
 "nbformat_minor": 5
}
